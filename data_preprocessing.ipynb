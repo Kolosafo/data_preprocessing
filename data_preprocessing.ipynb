{
  "nbformat": 4,
  "nbformat_minor": 0,
  "metadata": {
    "colab": {
      "provenance": [],
      "authorship_tag": "ABX9TyOKu1XjsQhoHOPRpGB2enyJ",
      "include_colab_link": true
    },
    "kernelspec": {
      "name": "python3",
      "display_name": "Python 3"
    },
    "language_info": {
      "name": "python"
    }
  },
  "cells": [
    {
      "cell_type": "markdown",
      "metadata": {
        "id": "view-in-github",
        "colab_type": "text"
      },
      "source": [
        "<a href=\"https://colab.research.google.com/github/Kolosafo/data_preprocessing/blob/master/data_preprocessing.ipynb\" target=\"_parent\"><img src=\"https://colab.research.google.com/assets/colab-badge.svg\" alt=\"Open In Colab\"/></a>"
      ]
    },
    {
      "cell_type": "code",
      "execution_count": 1,
      "metadata": {
        "id": "jl5mmHNqju65"
      },
      "outputs": [],
      "source": []
    },
    {
      "cell_type": "markdown",
      "source": [
        "IMPORTING LIBRARIES"
      ],
      "metadata": {
        "id": "d8qJY0D3j3r9"
      }
    },
    {
      "cell_type": "code",
      "source": [
        "import numpy as np\n",
        "import matplotlib.pyplot as plt\n",
        "import pandas as pd"
      ],
      "metadata": {
        "id": "3WF2zzhBj6uj"
      },
      "execution_count": 2,
      "outputs": []
    },
    {
      "cell_type": "code",
      "source": [
        "dataset = pd.read_csv('salary.csv')\n",
        "X = dataset.iloc[:, :-1].values\n",
        "y = dataset.iloc[:, -1].values"
      ],
      "metadata": {
        "id": "TccDG_wrlOH9"
      },
      "execution_count": 3,
      "outputs": []
    },
    {
      "cell_type": "code",
      "source": [
        "print(X)"
      ],
      "metadata": {
        "colab": {
          "base_uri": "https://localhost:8080/"
        },
        "id": "sTf9xOrtpUw5",
        "outputId": "40f49761-9a43-49ae-83cf-eade0c01eca9"
      },
      "execution_count": 4,
      "outputs": [
        {
          "output_type": "stream",
          "name": "stdout",
          "text": [
            "[['nigeria' 27.0 72000.0]\n",
            " ['ghana' nan 48000.0]\n",
            " ['cameroon' 39.0 52000.0]\n",
            " ['ghana' 23.0 33000.0]\n",
            " ['ghana' nan nan]\n",
            " ['nigeria' 40.0 32300.0]\n",
            " ['cameroon' 32.0 24000.0]\n",
            " ['nigeria' 28.0 66000.0]\n",
            " ['nigeria' nan nan]\n",
            " ['ghana' 26.0 55000.0]]\n"
          ]
        }
      ]
    },
    {
      "cell_type": "code",
      "source": [
        "print(y)"
      ],
      "metadata": {
        "colab": {
          "base_uri": "https://localhost:8080/"
        },
        "id": "8vg9jgb_pWQm",
        "outputId": "8bb3264b-286d-49da-bba6-5e236fc4252d"
      },
      "execution_count": 5,
      "outputs": [
        {
          "output_type": "stream",
          "name": "stdout",
          "text": [
            "['no' 'yes' 'yes' 'no' 'yes' 'yes' 'no' 'no' 'no' 'yes']\n"
          ]
        }
      ]
    },
    {
      "cell_type": "markdown",
      "source": [
        "HANDLING MISSING DATA\n"
      ],
      "metadata": {
        "id": "qfMPcabDq1El"
      }
    },
    {
      "cell_type": "code",
      "source": [
        "from sklearn.impute import SimpleImputer\n",
        "imputer = SimpleImputer(missing_values = np.nan, strategy=\"mean\")\n",
        "imputer.fit(X[:, 1:3])\n",
        "X[:, 1:3] = imputer.transform(X[:, 1:3])"
      ],
      "metadata": {
        "id": "1fXzwgw5q3pI"
      },
      "execution_count": 6,
      "outputs": []
    },
    {
      "cell_type": "code",
      "source": [
        "print(X)"
      ],
      "metadata": {
        "id": "vuDF0JXsuLdv",
        "colab": {
          "base_uri": "https://localhost:8080/"
        },
        "outputId": "c8c21faf-37c3-4b1a-f745-bc0696dd346d"
      },
      "execution_count": 7,
      "outputs": [
        {
          "output_type": "stream",
          "name": "stdout",
          "text": [
            "[['nigeria' 27.0 72000.0]\n",
            " ['ghana' 30.714285714285715 48000.0]\n",
            " ['cameroon' 39.0 52000.0]\n",
            " ['ghana' 23.0 33000.0]\n",
            " ['ghana' 30.714285714285715 47787.5]\n",
            " ['nigeria' 40.0 32300.0]\n",
            " ['cameroon' 32.0 24000.0]\n",
            " ['nigeria' 28.0 66000.0]\n",
            " ['nigeria' 30.714285714285715 47787.5]\n",
            " ['ghana' 26.0 55000.0]]\n"
          ]
        }
      ]
    },
    {
      "cell_type": "markdown",
      "source": [
        "ENCODING CATEGORICAL DATA"
      ],
      "metadata": {
        "id": "twn9o0XmwTF2"
      }
    },
    {
      "cell_type": "code",
      "source": [
        "from sklearn.compose import ColumnTransformer\n",
        "from sklearn.preprocessing import OneHotEncoder\n",
        "ct = ColumnTransformer(transformers = [(\"encoder\", OneHotEncoder(), [0])], remainder = \"passthrough\")\n",
        "X = np.array(ct.fit_transform(X))"
      ],
      "metadata": {
        "id": "OfZCNotzwV17"
      },
      "execution_count": 8,
      "outputs": []
    },
    {
      "cell_type": "code",
      "source": [],
      "metadata": {
        "id": "duswi_niAsTb"
      },
      "execution_count": 8,
      "outputs": []
    },
    {
      "cell_type": "code",
      "source": [
        "print(X)"
      ],
      "metadata": {
        "colab": {
          "base_uri": "https://localhost:8080/"
        },
        "id": "WCpVJLbFxgEe",
        "outputId": "97376910-261d-4b11-a69f-00393fcf78ba"
      },
      "execution_count": 9,
      "outputs": [
        {
          "output_type": "stream",
          "name": "stdout",
          "text": [
            "[[0.0 0.0 1.0 27.0 72000.0]\n",
            " [0.0 1.0 0.0 30.714285714285715 48000.0]\n",
            " [1.0 0.0 0.0 39.0 52000.0]\n",
            " [0.0 1.0 0.0 23.0 33000.0]\n",
            " [0.0 1.0 0.0 30.714285714285715 47787.5]\n",
            " [0.0 0.0 1.0 40.0 32300.0]\n",
            " [1.0 0.0 0.0 32.0 24000.0]\n",
            " [0.0 0.0 1.0 28.0 66000.0]\n",
            " [0.0 0.0 1.0 30.714285714285715 47787.5]\n",
            " [0.0 1.0 0.0 26.0 55000.0]]\n"
          ]
        }
      ]
    },
    {
      "cell_type": "code",
      "source": [
        "from sklearn.preprocessing import LabelEncoder\n",
        "le = LabelEncoder()\n",
        "y = le.fit_transform(y)"
      ],
      "metadata": {
        "id": "sjc5ALQDBzD3"
      },
      "execution_count": 10,
      "outputs": []
    },
    {
      "cell_type": "code",
      "source": [
        "print(y)"
      ],
      "metadata": {
        "colab": {
          "base_uri": "https://localhost:8080/"
        },
        "id": "YJKfN2_jCTx7",
        "outputId": "187329a5-8a2a-4041-c8b3-fb0131e891e8"
      },
      "execution_count": 11,
      "outputs": [
        {
          "output_type": "stream",
          "name": "stdout",
          "text": [
            "[0 1 1 0 1 1 0 0 0 1]\n"
          ]
        }
      ]
    },
    {
      "cell_type": "markdown",
      "source": [
        "SPLITTTING DATASET INTO TRAINING AND TESTSET"
      ],
      "metadata": {
        "id": "20AOPP5cCokP"
      }
    },
    {
      "cell_type": "code",
      "source": [
        "from sklearn.model_selection import train_test_split\n",
        "X_train, X_test, y_train, y_test = train_test_split(X, y, train_size=.8, random_state=1)"
      ],
      "metadata": {
        "id": "dIaYCPMMCr5X"
      },
      "execution_count": 12,
      "outputs": []
    },
    {
      "cell_type": "code",
      "source": [
        "print(X_train)"
      ],
      "metadata": {
        "colab": {
          "base_uri": "https://localhost:8080/"
        },
        "id": "sQREQQx8D5HC",
        "outputId": "d290da7b-c8ea-4cd7-fbde-e8fbb5e59851"
      },
      "execution_count": 13,
      "outputs": [
        {
          "output_type": "stream",
          "name": "stdout",
          "text": [
            "[[1.0 0.0 0.0 32.0 24000.0]\n",
            " [0.0 1.0 0.0 30.714285714285715 47787.5]\n",
            " [0.0 0.0 1.0 27.0 72000.0]\n",
            " [0.0 1.0 0.0 23.0 33000.0]\n",
            " [0.0 1.0 0.0 30.714285714285715 48000.0]\n",
            " [0.0 0.0 1.0 28.0 66000.0]\n",
            " [0.0 0.0 1.0 30.714285714285715 47787.5]\n",
            " [0.0 0.0 1.0 40.0 32300.0]]\n"
          ]
        }
      ]
    },
    {
      "cell_type": "code",
      "source": [
        "print(X_test)"
      ],
      "metadata": {
        "colab": {
          "base_uri": "https://localhost:8080/"
        },
        "id": "jwV-V9P_D-A_",
        "outputId": "0bdf44de-8d75-4403-9ccc-9c9b6df6f25e"
      },
      "execution_count": 14,
      "outputs": [
        {
          "output_type": "stream",
          "name": "stdout",
          "text": [
            "[[1.0 0.0 0.0 39.0 52000.0]\n",
            " [0.0 1.0 0.0 26.0 55000.0]]\n"
          ]
        }
      ]
    },
    {
      "cell_type": "code",
      "source": [
        "print(y_train)"
      ],
      "metadata": {
        "colab": {
          "base_uri": "https://localhost:8080/"
        },
        "id": "dT36UG6cEBU3",
        "outputId": "f9b90d49-f650-4bc8-b222-ee6f13523c3e"
      },
      "execution_count": 15,
      "outputs": [
        {
          "output_type": "stream",
          "name": "stdout",
          "text": [
            "[0 1 0 0 1 0 0 1]\n"
          ]
        }
      ]
    },
    {
      "cell_type": "code",
      "source": [
        "print(y_test)"
      ],
      "metadata": {
        "colab": {
          "base_uri": "https://localhost:8080/"
        },
        "id": "D0myBhEGEE5v",
        "outputId": "35ca9146-acc9-41bc-f072-f41657a605a1"
      },
      "execution_count": 16,
      "outputs": [
        {
          "output_type": "stream",
          "name": "stdout",
          "text": [
            "[1 1]\n"
          ]
        }
      ]
    },
    {
      "cell_type": "markdown",
      "source": [
        "FEATURE SCALING"
      ],
      "metadata": {
        "id": "kpGeEK2wF7u3"
      }
    },
    {
      "cell_type": "code",
      "source": [
        "from sklearn.preprocessing import StandardScaler\n",
        "sc = StandardScaler()\n",
        "X_train[:, 3:] = sc.fit_transform(X_train[:, 3:])\n",
        "X_test[:, 3:] = sc.transform(X_test[:, 3:])"
      ],
      "metadata": {
        "id": "ZN5F6nxcICcC"
      },
      "execution_count": 19,
      "outputs": []
    },
    {
      "cell_type": "code",
      "source": [
        "print(X_train)"
      ],
      "metadata": {
        "colab": {
          "base_uri": "https://localhost:8080/"
        },
        "id": "iMOPb3C-vv1X",
        "outputId": "07006224-0c48-4781-b12f-28fc67156a96"
      },
      "execution_count": 20,
      "outputs": [
        {
          "output_type": "stream",
          "name": "stdout",
          "text": [
            "[[1.0 0.0 0.0 0.37916379579549686 -1.4410239555873277]\n",
            " [0.0 1.0 0.0 0.0977226277823447 0.09204024426322974]\n",
            " [0.0 0.0 1.0 -0.7153296353667624 1.6524949763234134]\n",
            " [0.0 1.0 0.0 -1.5909243802965698 -0.8609891558540637]\n",
            " [0.0 1.0 0.0 0.0977226277823447 0.1057355103680429]\n",
            " [0.0 0.0 1.0 -0.4964309491343106 1.2658051098345708]\n",
            " [0.0 0.0 1.0 0.0977226277823447 0.09204024426322974]\n",
            " [0.0 0.0 1.0 2.130353285655112 -0.9061029736110953]]\n"
          ]
        }
      ]
    },
    {
      "cell_type": "code",
      "source": [
        "print(X_test)"
      ],
      "metadata": {
        "colab": {
          "base_uri": "https://localhost:8080/"
        },
        "id": "nRtReeXlvy4W",
        "outputId": "0a3729d9-4946-4c8d-d01d-ed914f2938cf"
      },
      "execution_count": 21,
      "outputs": [
        {
          "output_type": "stream",
          "name": "stdout",
          "text": [
            "[[1.0 0.0 0.0 1.9114545994226597 0.36352875469393797]\n",
            " [0.0 1.0 0.0 -0.9342283215992142 0.5568736879383593]]\n"
          ]
        }
      ]
    },
    {
      "cell_type": "code",
      "source": [],
      "metadata": {
        "id": "L6Wa397jv05x"
      },
      "execution_count": null,
      "outputs": []
    }
  ]
}